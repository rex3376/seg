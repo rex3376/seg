{
 "cells": [
  {
   "cell_type": "code",
   "execution_count": null,
   "metadata": {},
   "outputs": [],
   "source": [
    "import cv2\n",
    "import numpy as np\n",
    "import matplotlib.pyplot as plt"
   ]
  },
  {
   "cell_type": "code",
   "execution_count": null,
   "metadata": {},
   "outputs": [],
   "source": [
    "import io\n",
    "def get_img_from_fig(fig, dpi=90):\n",
    "    buf = io.BytesIO()\n",
    "    fig.savefig(buf, format=\"png\", dpi=dpi)\n",
    "    buf.seek(0)\n",
    "    img_arr = np.frombuffer(buf.getvalue(), dtype=np.uint8)\n",
    "    buf.close()\n",
    "    img = cv2.imdecode(img_arr, 1)\n",
    "    img = cv2.cvtColor(img, cv2.COLOR_BGR2RGB)\n",
    "\n",
    "    return img"
   ]
  },
  {
   "cell_type": "code",
   "execution_count": null,
   "metadata": {},
   "outputs": [],
   "source": [
    "from sklearn.cluster import DBSCAN\n",
    "import numpy as np\n",
    "cap=cv2.VideoCapture(r'C:\\Users\\17\\Downloads\\video5\\1.mp4')\n",
    "out = cv2.VideoWriter('outpy3.avi',cv2.VideoWriter_fourcc('M','J','P','G'), 5, (2520,1070))\n",
    "corona_count=[]\n",
    "img_counter=0\n",
    "while True:\n",
    "    ret, img = cap.read()\n",
    "    if ret:\n",
    "        cv2.imwrite(r'C:\\Users\\17\\Downloads\\video5\\images\\frame_'+str(img_counter).zfill(6)+'.png',img[50:-50,10:-10,:])\n",
    "        img=img[50:-50,10:-10,:]\n",
    "        img_counter+=1\n",
    "        mask = cv2.inRange(img, (0,0,190), (75,75,255))\n",
    "        corona_count.append(mask[mask>0].shape[0])\n",
    "        xy=np.where(mask>0)\n",
    "        points=np.swapaxes(np.array(xy),0,1)\n",
    "        if points.shape[0]>10:\n",
    "            clustering = DBSCAN(eps=30, min_samples=30).fit(points)\n",
    "            lab=clustering.labels_\n",
    "            img4=np.zeros(img.shape)\n",
    "            colors=[(100,100,100),(255,0,0),(0,255,0),(0,0,255),(150,150,150)]\n",
    "            for idx,label in enumerate(clustering.labels_):\n",
    "                img4[points[idx][0],points[idx][1]]=colors[label]\n",
    "        else:\n",
    "            img4=np.zeros(img.shape)\n",
    "        res_img=np.zeros((img.shape[0]+450,img.shape[1]*2,img.shape[2]))\n",
    "        res_img[:620,:img.shape[1],:]=img.copy()\n",
    "        res_img[:620,img.shape[1]:,:]=img4.copy()\n",
    "        \n",
    "        fig=plt.figure(figsize=(15,5))\n",
    "        fig.tight_layout(pad=0)\n",
    "        plot   = fig.add_subplot ( 111 )\n",
    "        plot.plot(np.stack(corona_count))\n",
    "        \n",
    "        #plt.show(block=True)\n",
    "        #plt.savefig('1.jpg')\n",
    "        d=get_img_from_fig(fig)\n",
    "        res_img[620:,:d.shape[1],:]=d\n",
    "        res_img=res_img.astype(np.uint8)\n",
    "        out.write(res_img)\n",
    "        if img_counter>9:\n",
    "            break\n",
    "    else:\n",
    "        break\n",
    "cap.release()\n",
    "out.release()       "
   ]
  }
 ],
 "metadata": {
  "kernelspec": {
   "display_name": "Python 3.8.10 64-bit",
   "language": "python",
   "name": "python3"
  },
  "language_info": {
   "name": "python",
   "version": "3.8.10"
  },
  "orig_nbformat": 4,
  "vscode": {
   "interpreter": {
    "hash": "a137ec520f100f8d701fe6b4b31f9a46c49e92550fdde771d31446361a5ac0e0"
   }
  }
 },
 "nbformat": 4,
 "nbformat_minor": 2
}
